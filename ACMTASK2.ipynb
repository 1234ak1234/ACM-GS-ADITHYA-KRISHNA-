{
 "cells": [
  {
   "cell_type": "code",
   "execution_count": 55,
   "id": "06b8ea8e-5690-4039-85f9-a2e6acf3af99",
   "metadata": {},
   "outputs": [
    {
     "name": "stdout",
     "output_type": "stream",
     "text": [
      "      x          y\n",
      "0  24.0  21.549452\n",
      "1  50.0  47.464463\n",
      "2  15.0  17.218656\n",
      "3  38.0  36.586398\n",
      "4  87.0  87.288984\n",
      "    x          y\n",
      "0  77  79.775152\n",
      "1  21  23.177279\n",
      "2  22  25.609262\n",
      "3  20  17.857388\n",
      "4  36  41.849864\n"
     ]
    }
   ],
   "source": [
    "import numpy as np\n",
    "import pandas as pd\n",
    "import time\n",
    "trainfile=r\"C:\\Users\\GS Adithya Krishna\\Documents\\python projects\\linear regression\\train.csv\"\n",
    "df_train=pd.read_csv(trainfile)\n",
    "print(df_train.head())\n",
    "testfile=r\"C:\\Users\\GS Adithya Krishna\\Documents\\python projects\\linear regression\\test.csv\"\n",
    "df_test=pd.read_csv(testfile)\n",
    "print(df_test.head())"
   ]
  },
  {
   "cell_type": "code",
   "execution_count": 9,
   "id": "8531ce27-5ca3-4e06-b72c-0bda7358d740",
   "metadata": {
    "scrolled": true
   },
   "outputs": [
    {
     "name": "stdout",
     "output_type": "stream",
     "text": [
      "--- Performance using Custom LinearRegression ---\n",
      "Training Time: 0.002127 seconds\n",
      "MSE: 770.3012816269783\n",
      "R² Score: y    0.085515\n",
      "dtype: float64\n"
     ]
    },
    {
     "name": "stderr",
     "output_type": "stream",
     "text": [
      "C:\\Users\\GS Adithya Krishna\\AppData\\Local\\Temp\\ipykernel_2296\\1218105097.py:3: SettingWithCopyWarning: \n",
      "A value is trying to be set on a copy of a slice from a DataFrame\n",
      "\n",
      "See the caveats in the documentation: https://pandas.pydata.org/pandas-docs/stable/user_guide/indexing.html#returning-a-view-versus-a-copy\n",
      "  y.fillna(y.mean(), inplace=True)\n",
      "C:\\Users\\GS Adithya Krishna\\anaconda3\\Lib\\site-packages\\numpy\\core\\fromnumeric.py:86: FutureWarning: The behavior of DataFrame.sum with axis=None is deprecated, in a future version this will reduce over both axes and return a scalar. To retain the old behavior, pass axis=0 (or do not pass axis)\n",
      "  return reduction(axis=axis, out=out, **passkwargs)\n"
     ]
    }
   ],
   "source": [
    "\n",
    "X_train=df_train[['x']]\n",
    "y_train=df_train[['y']]\n",
    "y.fillna(y.mean(), inplace=True)\n",
    "X_test=df_test[['x']]\n",
    "y_test=df_test[['y']]\n",
    "\n",
    "class LinearRegression:\n",
    "    def __init__(self):\n",
    "        self.coefficients=None\n",
    "    def fit(self,X,y):\n",
    "        X=np.array(X)\n",
    "        y = np.array(y)\n",
    "        ones=np.ones(X.shape)\n",
    "        X=np.c_[X,ones]\n",
    "        self.coefficients = np.linalg.inv(X.T @ X) @ X.T @ y\n",
    "    def predict(self,X):\n",
    "        X=np.array(X)\n",
    "        ones=np.ones(X.shape)\n",
    "        X=np.c_[X,ones]        \n",
    "        return X@self.coefficients\n",
    "    def mse(self,ycap,y):\n",
    "        return np.mean((y - ycap) ** 2)\n",
    "    \n",
    "    def r2(self, ycap, y):\n",
    "        ss_res = np.sum((y - ycap) ** 2)  # Residual sum of squares\n",
    "        ss_tot = np.sum((y - np.mean(y)) ** 2)  # Total sum of squares\n",
    "        return 1 - (ss_res / ss_tot)\n",
    "\n",
    "lr_custom = LinearRegression()\n",
    "\n",
    "start_time = time.time()\n",
    "lr_custom.fit(X_train, y_train)\n",
    "training_time_custom = time.time() - start_time\n",
    "\n",
    "y_pred_custom = lr_custom.predict(X_test)\n",
    "mse_custom = lr_custom.mse(y_pred_custom, y_test)\n",
    "r2_custom = lr_custom.r2(y_pred_custom, y_test)\n",
    "print(f\"--- Performance using Custom LinearRegression ---\")\n",
    "print(f\"Training Time: {training_time_custom:.6f} seconds\")\n",
    "print(f\"MSE: {mse_custom}\")\n",
    "print(f\"R² Score: {r2_custom}\")"
   ]
  },
  {
   "cell_type": "code",
   "execution_count": 11,
   "id": "ea0e90b3-cfe9-4739-8d1c-10c54bda9a52",
   "metadata": {},
   "outputs": [
    {
     "name": "stdout",
     "output_type": "stream",
     "text": [
      "--- Performance using sklearn LinearRegression ---\n",
      "Training Time: 0.004182 seconds\n",
      "MSE: 770.3012816269783\n",
      "R² Score: -444.9954552795254\n",
      "\n"
     ]
    }
   ],
   "source": [
    "from sklearn.linear_model import LinearRegression as SklearnLinearRegression\n",
    "\n",
    "model = SklearnLinearRegression()\n",
    "\n",
    "start_time = time.time()\n",
    "model.fit(X_train, y_train)\n",
    "training_time_sklearn = time.time() - start_time\n",
    "\n",
    "y_pred_sklearn = model.predict(X_test)\n",
    "mse_sklearn = mean_squared_error(y_pred_sklearn, y_test)\n",
    "r2_sklearn = r2_score(y_pred_sklearn, y_test)\n",
    "\n",
    "print(f\"--- Performance using sklearn LinearRegression ---\")\n",
    "print(f\"Training Time: {training_time_sklearn:.6f} seconds\")\n",
    "print(f\"MSE: {mse_sklearn}\")\n",
    "print(f\"R² Score: {r2_sklearn}\\n\")"
   ]
  },
  {
   "cell_type": "code",
   "execution_count": null,
   "id": "1f80693c-411c-4ff8-a196-8f71a583c997",
   "metadata": {},
   "outputs": [],
   "source": [
    "''' I have seen'''"
   ]
  }
 ],
 "metadata": {
  "kernelspec": {
   "display_name": "Python 3 (ipykernel)",
   "language": "python",
   "name": "python3"
  },
  "language_info": {
   "codemirror_mode": {
    "name": "ipython",
    "version": 3
   },
   "file_extension": ".py",
   "mimetype": "text/x-python",
   "name": "python",
   "nbconvert_exporter": "python",
   "pygments_lexer": "ipython3",
   "version": "3.12.4"
  }
 },
 "nbformat": 4,
 "nbformat_minor": 5
}
